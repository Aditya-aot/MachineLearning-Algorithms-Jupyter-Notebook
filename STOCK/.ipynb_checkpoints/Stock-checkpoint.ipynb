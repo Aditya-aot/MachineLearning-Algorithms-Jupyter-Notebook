{
 "cells": [
  {
   "cell_type": "code",
   "execution_count": 1,
   "metadata": {},
   "outputs": [],
   "source": [
    "import numpy as np\n",
    "# import matplotlib.pyplot as plt\n",
    "import pandas as pd\n",
    "import pandas_datareader as web\n",
    "# import datetime as dt"
   ]
  },
  {
   "cell_type": "code",
   "execution_count": 2,
   "metadata": {},
   "outputs": [],
   "source": [
    "# from sklearn.preprocessing import MinMaxScaler\n",
    "# from tensorflow.keras.models import Sequential\n",
    "# from tensorflow.keras.layers import Dense, Dropout, LSTM"
   ]
  },
  {
   "cell_type": "code",
   "execution_count": null,
   "metadata": {},
   "outputs": [],
   "source": [
    "\n"
   ]
  },
  {
   "cell_type": "code",
   "execution_count": 3,
   "metadata": {},
   "outputs": [
    {
     "name": "stdout",
     "output_type": "stream",
     "text": [
      "0.1.62\n"
     ]
    },
    {
     "data": {
      "text/html": [
       "<div>\n",
       "<style scoped>\n",
       "    .dataframe tbody tr th:only-of-type {\n",
       "        vertical-align: middle;\n",
       "    }\n",
       "\n",
       "    .dataframe tbody tr th {\n",
       "        vertical-align: top;\n",
       "    }\n",
       "\n",
       "    .dataframe thead th {\n",
       "        text-align: right;\n",
       "    }\n",
       "</style>\n",
       "<table border=\"1\" class=\"dataframe\">\n",
       "  <thead>\n",
       "    <tr style=\"text-align: right;\">\n",
       "      <th></th>\n",
       "      <th>Open</th>\n",
       "      <th>High</th>\n",
       "      <th>Low</th>\n",
       "      <th>Close</th>\n",
       "      <th>Volume</th>\n",
       "      <th>Dividends</th>\n",
       "      <th>Stock Splits</th>\n",
       "    </tr>\n",
       "    <tr>\n",
       "      <th>Date</th>\n",
       "      <th></th>\n",
       "      <th></th>\n",
       "      <th></th>\n",
       "      <th></th>\n",
       "      <th></th>\n",
       "      <th></th>\n",
       "      <th></th>\n",
       "    </tr>\n",
       "  </thead>\n",
       "  <tbody>\n",
       "    <tr>\n",
       "      <td>2019-07-04</td>\n",
       "      <td>70.329150</td>\n",
       "      <td>70.855426</td>\n",
       "      <td>68.702492</td>\n",
       "      <td>69.037392</td>\n",
       "      <td>4570483</td>\n",
       "      <td>0.0</td>\n",
       "      <td>0</td>\n",
       "    </tr>\n",
       "    <tr>\n",
       "      <td>2019-07-05</td>\n",
       "      <td>69.037395</td>\n",
       "      <td>69.372294</td>\n",
       "      <td>67.171515</td>\n",
       "      <td>67.554260</td>\n",
       "      <td>4542388</td>\n",
       "      <td>0.0</td>\n",
       "      <td>0</td>\n",
       "    </tr>\n",
       "    <tr>\n",
       "      <td>2019-07-08</td>\n",
       "      <td>67.171514</td>\n",
       "      <td>67.362891</td>\n",
       "      <td>64.444467</td>\n",
       "      <td>65.640541</td>\n",
       "      <td>5025170</td>\n",
       "      <td>0.0</td>\n",
       "      <td>0</td>\n",
       "    </tr>\n",
       "    <tr>\n",
       "      <td>2019-07-09</td>\n",
       "      <td>65.257800</td>\n",
       "      <td>66.071136</td>\n",
       "      <td>64.922901</td>\n",
       "      <td>65.544861</td>\n",
       "      <td>4835452</td>\n",
       "      <td>0.0</td>\n",
       "      <td>0</td>\n",
       "    </tr>\n",
       "    <tr>\n",
       "      <td>2019-07-10</td>\n",
       "      <td>65.975438</td>\n",
       "      <td>66.118969</td>\n",
       "      <td>63.248391</td>\n",
       "      <td>63.487606</td>\n",
       "      <td>6342661</td>\n",
       "      <td>0.0</td>\n",
       "      <td>0</td>\n",
       "    </tr>\n",
       "    <tr>\n",
       "      <td>...</td>\n",
       "      <td>...</td>\n",
       "      <td>...</td>\n",
       "      <td>...</td>\n",
       "      <td>...</td>\n",
       "      <td>...</td>\n",
       "      <td>...</td>\n",
       "      <td>...</td>\n",
       "    </tr>\n",
       "    <tr>\n",
       "      <td>2021-07-05</td>\n",
       "      <td>121.949997</td>\n",
       "      <td>126.900002</td>\n",
       "      <td>121.750000</td>\n",
       "      <td>125.900002</td>\n",
       "      <td>61606669</td>\n",
       "      <td>0.0</td>\n",
       "      <td>0</td>\n",
       "    </tr>\n",
       "    <tr>\n",
       "      <td>2021-07-06</td>\n",
       "      <td>126.000000</td>\n",
       "      <td>126.500000</td>\n",
       "      <td>122.050003</td>\n",
       "      <td>123.000000</td>\n",
       "      <td>31062811</td>\n",
       "      <td>0.0</td>\n",
       "      <td>0</td>\n",
       "    </tr>\n",
       "    <tr>\n",
       "      <td>2021-07-07</td>\n",
       "      <td>123.000000</td>\n",
       "      <td>124.500000</td>\n",
       "      <td>122.150002</td>\n",
       "      <td>123.849998</td>\n",
       "      <td>19773453</td>\n",
       "      <td>0.0</td>\n",
       "      <td>0</td>\n",
       "    </tr>\n",
       "    <tr>\n",
       "      <td>2021-07-08</td>\n",
       "      <td>124.099998</td>\n",
       "      <td>126.849998</td>\n",
       "      <td>122.400002</td>\n",
       "      <td>123.400002</td>\n",
       "      <td>33870196</td>\n",
       "      <td>0.0</td>\n",
       "      <td>0</td>\n",
       "    </tr>\n",
       "    <tr>\n",
       "      <td>2021-07-09</td>\n",
       "      <td>123.000000</td>\n",
       "      <td>124.800003</td>\n",
       "      <td>121.699997</td>\n",
       "      <td>124.449997</td>\n",
       "      <td>24078290</td>\n",
       "      <td>0.0</td>\n",
       "      <td>0</td>\n",
       "    </tr>\n",
       "  </tbody>\n",
       "</table>\n",
       "<p>498 rows × 7 columns</p>\n",
       "</div>"
      ],
      "text/plain": [
       "                  Open        High         Low       Close    Volume  \\\n",
       "Date                                                                   \n",
       "2019-07-04   70.329150   70.855426   68.702492   69.037392   4570483   \n",
       "2019-07-05   69.037395   69.372294   67.171515   67.554260   4542388   \n",
       "2019-07-08   67.171514   67.362891   64.444467   65.640541   5025170   \n",
       "2019-07-09   65.257800   66.071136   64.922901   65.544861   4835452   \n",
       "2019-07-10   65.975438   66.118969   63.248391   63.487606   6342661   \n",
       "...                ...         ...         ...         ...       ...   \n",
       "2021-07-05  121.949997  126.900002  121.750000  125.900002  61606669   \n",
       "2021-07-06  126.000000  126.500000  122.050003  123.000000  31062811   \n",
       "2021-07-07  123.000000  124.500000  122.150002  123.849998  19773453   \n",
       "2021-07-08  124.099998  126.849998  122.400002  123.400002  33870196   \n",
       "2021-07-09  123.000000  124.800003  121.699997  124.449997  24078290   \n",
       "\n",
       "            Dividends  Stock Splits  \n",
       "Date                                 \n",
       "2019-07-04        0.0             0  \n",
       "2019-07-05        0.0             0  \n",
       "2019-07-08        0.0             0  \n",
       "2019-07-09        0.0             0  \n",
       "2019-07-10        0.0             0  \n",
       "...               ...           ...  \n",
       "2021-07-05        0.0             0  \n",
       "2021-07-06        0.0             0  \n",
       "2021-07-07        0.0             0  \n",
       "2021-07-08        0.0             0  \n",
       "2021-07-09        0.0             0  \n",
       "\n",
       "[498 rows x 7 columns]"
      ]
     },
     "execution_count": 3,
     "metadata": {},
     "output_type": "execute_result"
    }
   ],
   "source": [
    "import yfinance as yf\n",
    "# print(yf.__version__)\n",
    "\n",
    "msft = yf.Ticker(\"TATAPOWER.NS\")\n",
    "\n",
    "hist = msft.history(period=\"500d\")\n",
    "hist"
   ]
  },
  {
   "cell_type": "code",
   "execution_count": 14,
   "metadata": {},
   "outputs": [
    {
     "data": {
      "text/html": [
       "<div>\n",
       "<style scoped>\n",
       "    .dataframe tbody tr th:only-of-type {\n",
       "        vertical-align: middle;\n",
       "    }\n",
       "\n",
       "    .dataframe tbody tr th {\n",
       "        vertical-align: top;\n",
       "    }\n",
       "\n",
       "    .dataframe thead th {\n",
       "        text-align: right;\n",
       "    }\n",
       "</style>\n",
       "<table border=\"1\" class=\"dataframe\">\n",
       "  <thead>\n",
       "    <tr style=\"text-align: right;\">\n",
       "      <th></th>\n",
       "      <th>Open</th>\n",
       "      <th>High</th>\n",
       "      <th>Low</th>\n",
       "      <th>Close</th>\n",
       "      <th>Volume</th>\n",
       "      <th>Dividends</th>\n",
       "      <th>Stock Splits</th>\n",
       "      <th>year</th>\n",
       "      <th>month</th>\n",
       "      <th>day</th>\n",
       "    </tr>\n",
       "  </thead>\n",
       "  <tbody>\n",
       "    <tr>\n",
       "      <td>0</td>\n",
       "      <td>66.358182</td>\n",
       "      <td>67.937001</td>\n",
       "      <td>65.209954</td>\n",
       "      <td>67.649940</td>\n",
       "      <td>6683580</td>\n",
       "      <td>0.0</td>\n",
       "      <td>0</td>\n",
       "      <td>2019</td>\n",
       "      <td>7</td>\n",
       "      <td>1</td>\n",
       "    </tr>\n",
       "    <tr>\n",
       "      <td>1</td>\n",
       "      <td>67.984847</td>\n",
       "      <td>70.233464</td>\n",
       "      <td>67.123672</td>\n",
       "      <td>69.946404</td>\n",
       "      <td>20164926</td>\n",
       "      <td>0.0</td>\n",
       "      <td>0</td>\n",
       "      <td>2019</td>\n",
       "      <td>7</td>\n",
       "      <td>2</td>\n",
       "    </tr>\n",
       "    <tr>\n",
       "      <td>2</td>\n",
       "      <td>70.233464</td>\n",
       "      <td>70.951108</td>\n",
       "      <td>68.415430</td>\n",
       "      <td>70.664047</td>\n",
       "      <td>13757355</td>\n",
       "      <td>0.0</td>\n",
       "      <td>0</td>\n",
       "      <td>2019</td>\n",
       "      <td>7</td>\n",
       "      <td>3</td>\n",
       "    </tr>\n",
       "    <tr>\n",
       "      <td>3</td>\n",
       "      <td>70.329150</td>\n",
       "      <td>70.855426</td>\n",
       "      <td>68.702492</td>\n",
       "      <td>69.037392</td>\n",
       "      <td>4570483</td>\n",
       "      <td>0.0</td>\n",
       "      <td>0</td>\n",
       "      <td>2019</td>\n",
       "      <td>7</td>\n",
       "      <td>4</td>\n",
       "    </tr>\n",
       "    <tr>\n",
       "      <td>4</td>\n",
       "      <td>69.037395</td>\n",
       "      <td>69.372294</td>\n",
       "      <td>67.171515</td>\n",
       "      <td>67.554260</td>\n",
       "      <td>4542388</td>\n",
       "      <td>0.0</td>\n",
       "      <td>0</td>\n",
       "      <td>2019</td>\n",
       "      <td>7</td>\n",
       "      <td>5</td>\n",
       "    </tr>\n",
       "    <tr>\n",
       "      <td>...</td>\n",
       "      <td>...</td>\n",
       "      <td>...</td>\n",
       "      <td>...</td>\n",
       "      <td>...</td>\n",
       "      <td>...</td>\n",
       "      <td>...</td>\n",
       "      <td>...</td>\n",
       "      <td>...</td>\n",
       "      <td>...</td>\n",
       "      <td>...</td>\n",
       "    </tr>\n",
       "    <tr>\n",
       "      <td>493</td>\n",
       "      <td>123.400002</td>\n",
       "      <td>123.900002</td>\n",
       "      <td>121.699997</td>\n",
       "      <td>122.099998</td>\n",
       "      <td>30099781</td>\n",
       "      <td>0.0</td>\n",
       "      <td>0</td>\n",
       "      <td>2021</td>\n",
       "      <td>6</td>\n",
       "      <td>30</td>\n",
       "    </tr>\n",
       "    <tr>\n",
       "      <td>494</td>\n",
       "      <td>122.800003</td>\n",
       "      <td>122.800003</td>\n",
       "      <td>121.000000</td>\n",
       "      <td>121.349998</td>\n",
       "      <td>18570986</td>\n",
       "      <td>0.0</td>\n",
       "      <td>0</td>\n",
       "      <td>2021</td>\n",
       "      <td>7</td>\n",
       "      <td>1</td>\n",
       "    </tr>\n",
       "    <tr>\n",
       "      <td>495</td>\n",
       "      <td>122.000000</td>\n",
       "      <td>122.599998</td>\n",
       "      <td>120.599998</td>\n",
       "      <td>120.949997</td>\n",
       "      <td>22789936</td>\n",
       "      <td>0.0</td>\n",
       "      <td>0</td>\n",
       "      <td>2021</td>\n",
       "      <td>7</td>\n",
       "      <td>2</td>\n",
       "    </tr>\n",
       "    <tr>\n",
       "      <td>496</td>\n",
       "      <td>121.949997</td>\n",
       "      <td>126.900002</td>\n",
       "      <td>121.750000</td>\n",
       "      <td>125.900002</td>\n",
       "      <td>61606669</td>\n",
       "      <td>0.0</td>\n",
       "      <td>0</td>\n",
       "      <td>2021</td>\n",
       "      <td>7</td>\n",
       "      <td>5</td>\n",
       "    </tr>\n",
       "    <tr>\n",
       "      <td>497</td>\n",
       "      <td>126.000000</td>\n",
       "      <td>126.500000</td>\n",
       "      <td>122.050003</td>\n",
       "      <td>123.000000</td>\n",
       "      <td>31042323</td>\n",
       "      <td>0.0</td>\n",
       "      <td>0</td>\n",
       "      <td>2021</td>\n",
       "      <td>7</td>\n",
       "      <td>6</td>\n",
       "    </tr>\n",
       "  </tbody>\n",
       "</table>\n",
       "<p>498 rows × 10 columns</p>\n",
       "</div>"
      ],
      "text/plain": [
       "           Open        High         Low       Close    Volume  Dividends  \\\n",
       "0     66.358182   67.937001   65.209954   67.649940   6683580        0.0   \n",
       "1     67.984847   70.233464   67.123672   69.946404  20164926        0.0   \n",
       "2     70.233464   70.951108   68.415430   70.664047  13757355        0.0   \n",
       "3     70.329150   70.855426   68.702492   69.037392   4570483        0.0   \n",
       "4     69.037395   69.372294   67.171515   67.554260   4542388        0.0   \n",
       "..          ...         ...         ...         ...       ...        ...   \n",
       "493  123.400002  123.900002  121.699997  122.099998  30099781        0.0   \n",
       "494  122.800003  122.800003  121.000000  121.349998  18570986        0.0   \n",
       "495  122.000000  122.599998  120.599998  120.949997  22789936        0.0   \n",
       "496  121.949997  126.900002  121.750000  125.900002  61606669        0.0   \n",
       "497  126.000000  126.500000  122.050003  123.000000  31042323        0.0   \n",
       "\n",
       "     Stock Splits  year  month  day  \n",
       "0               0  2019      7    1  \n",
       "1               0  2019      7    2  \n",
       "2               0  2019      7    3  \n",
       "3               0  2019      7    4  \n",
       "4               0  2019      7    5  \n",
       "..            ...   ...    ...  ...  \n",
       "493             0  2021      6   30  \n",
       "494             0  2021      7    1  \n",
       "495             0  2021      7    2  \n",
       "496             0  2021      7    5  \n",
       "497             0  2021      7    6  \n",
       "\n",
       "[498 rows x 10 columns]"
      ]
     },
     "execution_count": 14,
     "metadata": {},
     "output_type": "execute_result"
    }
   ],
   "source": [
    "new_df = hist.copy()\n",
    "new_df['year'], new_df['month'], new_df['day'] = hist.index.year, hist.index.month, hist.index.day\n",
    "new_df\n",
    "\n",
    "new_df.reset_index(inplace=True,drop=False)\n",
    "new_df= new_df.drop(['Date'],axis='columns')\n",
    "new_df"
   ]
  },
  {
   "cell_type": "code",
   "execution_count": 15,
   "metadata": {},
   "outputs": [
    {
     "data": {
      "text/html": [
       "<div>\n",
       "<style scoped>\n",
       "    .dataframe tbody tr th:only-of-type {\n",
       "        vertical-align: middle;\n",
       "    }\n",
       "\n",
       "    .dataframe tbody tr th {\n",
       "        vertical-align: top;\n",
       "    }\n",
       "\n",
       "    .dataframe thead th {\n",
       "        text-align: right;\n",
       "    }\n",
       "</style>\n",
       "<table border=\"1\" class=\"dataframe\">\n",
       "  <thead>\n",
       "    <tr style=\"text-align: right;\">\n",
       "      <th></th>\n",
       "      <th>year</th>\n",
       "      <th>month</th>\n",
       "      <th>day</th>\n",
       "    </tr>\n",
       "  </thead>\n",
       "  <tbody>\n",
       "    <tr>\n",
       "      <td>0</td>\n",
       "      <td>2019</td>\n",
       "      <td>7</td>\n",
       "      <td>1</td>\n",
       "    </tr>\n",
       "    <tr>\n",
       "      <td>1</td>\n",
       "      <td>2019</td>\n",
       "      <td>7</td>\n",
       "      <td>2</td>\n",
       "    </tr>\n",
       "    <tr>\n",
       "      <td>2</td>\n",
       "      <td>2019</td>\n",
       "      <td>7</td>\n",
       "      <td>3</td>\n",
       "    </tr>\n",
       "    <tr>\n",
       "      <td>3</td>\n",
       "      <td>2019</td>\n",
       "      <td>7</td>\n",
       "      <td>4</td>\n",
       "    </tr>\n",
       "    <tr>\n",
       "      <td>4</td>\n",
       "      <td>2019</td>\n",
       "      <td>7</td>\n",
       "      <td>5</td>\n",
       "    </tr>\n",
       "    <tr>\n",
       "      <td>...</td>\n",
       "      <td>...</td>\n",
       "      <td>...</td>\n",
       "      <td>...</td>\n",
       "    </tr>\n",
       "    <tr>\n",
       "      <td>493</td>\n",
       "      <td>2021</td>\n",
       "      <td>6</td>\n",
       "      <td>30</td>\n",
       "    </tr>\n",
       "    <tr>\n",
       "      <td>494</td>\n",
       "      <td>2021</td>\n",
       "      <td>7</td>\n",
       "      <td>1</td>\n",
       "    </tr>\n",
       "    <tr>\n",
       "      <td>495</td>\n",
       "      <td>2021</td>\n",
       "      <td>7</td>\n",
       "      <td>2</td>\n",
       "    </tr>\n",
       "    <tr>\n",
       "      <td>496</td>\n",
       "      <td>2021</td>\n",
       "      <td>7</td>\n",
       "      <td>5</td>\n",
       "    </tr>\n",
       "    <tr>\n",
       "      <td>497</td>\n",
       "      <td>2021</td>\n",
       "      <td>7</td>\n",
       "      <td>6</td>\n",
       "    </tr>\n",
       "  </tbody>\n",
       "</table>\n",
       "<p>498 rows × 3 columns</p>\n",
       "</div>"
      ],
      "text/plain": [
       "     year  month  day\n",
       "0    2019      7    1\n",
       "1    2019      7    2\n",
       "2    2019      7    3\n",
       "3    2019      7    4\n",
       "4    2019      7    5\n",
       "..    ...    ...  ...\n",
       "493  2021      6   30\n",
       "494  2021      7    1\n",
       "495  2021      7    2\n",
       "496  2021      7    5\n",
       "497  2021      7    6\n",
       "\n",
       "[498 rows x 3 columns]"
      ]
     },
     "execution_count": 15,
     "metadata": {},
     "output_type": "execute_result"
    }
   ],
   "source": [
    "# scaler = MinMaxScaler(feature_range=(0,1))\n",
    "\n",
    "scaled_close= new_df.drop(['Open','High','Low','Close','Volume','Dividends','Stock Splits'],axis='columns')\n",
    "\n",
    "scaled_open = new_df[['Close','High','Low','Open','Volume','Dividends','Stock Splits']]\n",
    "\n",
    "scaled_close"
   ]
  },
  {
   "cell_type": "code",
   "execution_count": 16,
   "metadata": {},
   "outputs": [],
   "source": [
    "inputs= scaled_close\n",
    "target = scaled_open"
   ]
  },
  {
   "cell_type": "code",
   "execution_count": 18,
   "metadata": {},
   "outputs": [],
   "source": [
    "from sklearn.model_selection import train_test_split\n",
    "\n",
    "x_train, x_test, y_train, y_test = train_test_split(inputs,target,test_size=0.2)"
   ]
  },
  {
   "cell_type": "code",
   "execution_count": 19,
   "metadata": {},
   "outputs": [
    {
     "name": "stderr",
     "output_type": "stream",
     "text": [
      "C:\\Users\\MS\\Anaconda3\\lib\\site-packages\\sklearn\\ensemble\\forest.py:245: FutureWarning: The default value of n_estimators will change from 10 in version 0.20 to 100 in 0.22.\n",
      "  \"10 in version 0.20 to 100 in 0.22.\", FutureWarning)\n"
     ]
    },
    {
     "data": {
      "text/plain": [
       "RandomForestRegressor(bootstrap=True, criterion='mse', max_depth=None,\n",
       "                      max_features='auto', max_leaf_nodes=None,\n",
       "                      min_impurity_decrease=0.0, min_impurity_split=None,\n",
       "                      min_samples_leaf=1, min_samples_split=2,\n",
       "                      min_weight_fraction_leaf=0.0, n_estimators=10,\n",
       "                      n_jobs=None, oob_score=False, random_state=None,\n",
       "                      verbose=0, warm_start=False)"
      ]
     },
     "execution_count": 19,
     "metadata": {},
     "output_type": "execute_result"
    }
   ],
   "source": [
    "from sklearn.ensemble import RandomForestRegressor\n",
    "model = RandomForestRegressor()\n",
    "model.fit(x_train, y_train)\n"
   ]
  },
  {
   "cell_type": "code",
   "execution_count": 20,
   "metadata": {},
   "outputs": [
    {
     "name": "stderr",
     "output_type": "stream",
     "text": [
      "C:\\Users\\MS\\Anaconda3\\lib\\site-packages\\sklearn\\base.py:420: FutureWarning: The default value of multioutput (not exposed in score method) will change from 'variance_weighted' to 'uniform_average' in 0.23 to keep consistent with 'metrics.r2_score'. To specify the default value manually and avoid the warning, please either call 'metrics.r2_score' directly or make a custom scorer with 'metrics.make_scorer' (the built-in scorer 'r2' uses multioutput='uniform_average').\n",
      "  \"multioutput='uniform_average').\", FutureWarning)\n"
     ]
    },
    {
     "data": {
      "text/plain": [
       "0.3288717889098721"
      ]
     },
     "execution_count": 20,
     "metadata": {},
     "output_type": "execute_result"
    }
   ],
   "source": [
    "model.score(x_test, y_test)"
   ]
  },
  {
   "cell_type": "code",
   "execution_count": 21,
   "metadata": {},
   "outputs": [
    {
     "data": {
      "text/plain": [
       "array([[7.98797173e+01, 8.09958090e+01, 7.57511586e+01, 7.74549308e+01,\n",
       "        4.26086512e+07, 0.00000000e+00, 0.00000000e+00]])"
      ]
     },
     "execution_count": 21,
     "metadata": {},
     "output_type": "execute_result"
    }
   ],
   "source": [
    "a=model.predict([[2022,2,1]])\n",
    "a"
   ]
  },
  {
   "cell_type": "code",
   "execution_count": 23,
   "metadata": {},
   "outputs": [
    {
     "name": "stdout",
     "output_type": "stream",
     "text": [
      "[[7.98797173e+01 8.09958090e+01 7.57511586e+01 7.74549308e+01\n",
      "  4.26086512e+07 0.00000000e+00 0.00000000e+00]]\n",
      "[[7.98797173e+01 8.09958090e+01 7.57511586e+01 7.74549308e+01\n",
      "  4.26086512e+07 0.00000000e+00 0.00000000e+00]]\n",
      "[[8.09760567e+01 8.18551033e+01 7.72771460e+01 7.89661019e+01\n",
      "  4.32225538e+07 0.00000000e+00 0.00000000e+00]]\n",
      "[[8.26748871e+01 8.38699992e+01 8.07686412e+01 8.25119220e+01\n",
      "  4.00062092e+07 0.00000000e+00 0.00000000e+00]]\n",
      "[[8.58750122e+01 8.68330769e+01 8.20723921e+01 8.29860094e+01\n",
      "  7.16242532e+07 0.00000000e+00 0.00000000e+00]]\n",
      "[[8.56972282e+01 8.66997388e+01 8.23736394e+01 8.33563949e+01\n",
      "  6.40212086e+07 0.00000000e+00 0.00000000e+00]]\n",
      "[[8.57713058e+01 8.70750625e+01 8.28921791e+01 8.42601352e+01\n",
      "  6.05230142e+07 0.00000000e+00 0.00000000e+00]]\n",
      "[[8.55688293e+01 8.80528764e+01 8.43885329e+01 8.70997543e+01\n",
      "  4.12549428e+07 0.00000000e+00 0.00000000e+00]]\n",
      "[[8.55391998e+01 8.80923844e+01 8.46848418e+01 8.75244637e+01\n",
      "  3.81051491e+07 0.00000000e+00 0.00000000e+00]]\n",
      "[[8.59441536e+01 8.86701846e+01 8.50651032e+01 8.80973258e+01\n",
      "  3.76959403e+07 0.00000000e+00 0.00000000e+00]]\n"
     ]
    }
   ],
   "source": [
    "for i in range(10) :\n",
    "    a=model.predict([[2022,2,i]])\n",
    "    print(a)"
   ]
  },
  {
   "cell_type": "code",
   "execution_count": 75,
   "metadata": {},
   "outputs": [
    {
     "name": "stdout",
     "output_type": "stream",
     "text": [
      "82.19092102050782\n",
      "83.31195005446047\n",
      "77.72654564045202\n",
      "79.44513335456102\n",
      "44577541.5\n",
      "0.0\n",
      "0.0\n"
     ]
    }
   ],
   "source": [
    "for i in a :\n",
    "    for j in i :\n",
    "        print(j)"
   ]
  },
  {
   "cell_type": "code",
   "execution_count": 76,
   "metadata": {},
   "outputs": [
    {
     "name": "stderr",
     "output_type": "stream",
     "text": [
      "C:\\Users\\MS\\Anaconda3\\lib\\site-packages\\sklearn\\externals\\joblib\\__init__.py:15: DeprecationWarning: sklearn.externals.joblib is deprecated in 0.21 and will be removed in 0.23. Please import this functionality directly from joblib, which can be installed with: pip install joblib. If this warning is raised when loading pickled models, you may need to re-serialize those models with scikit-learn 0.21+.\n",
      "  warnings.warn(msg, category=DeprecationWarning)\n"
     ]
    }
   ],
   "source": [
    "from sklearn.externals import joblib"
   ]
  },
  {
   "cell_type": "code",
   "execution_count": 77,
   "metadata": {},
   "outputs": [
    {
     "data": {
      "text/plain": [
       "['testing saving model']"
      ]
     },
     "execution_count": 77,
     "metadata": {},
     "output_type": "execute_result"
    }
   ],
   "source": [
    "joblib.dump(model,'testing saving model')"
   ]
  },
  {
   "cell_type": "code",
   "execution_count": null,
   "metadata": {},
   "outputs": [],
   "source": []
  },
  {
   "cell_type": "code",
   "execution_count": 7,
   "metadata": {},
   "outputs": [
    {
     "name": "stdout",
     "output_type": "stream",
     "text": [
      "a\n",
      "1\n",
      "b\n",
      "2\n",
      "c\n",
      "3\n",
      "d\n",
      "4\n"
     ]
    }
   ],
   "source": [
    "# a=['a','b','c','d']\n",
    "# b=[1,2,3,4]\n",
    "# for i ,j in zip(a,b):\n",
    "#     print(i)\n",
    "#     print(j)"
   ]
  },
  {
   "cell_type": "code",
   "execution_count": null,
   "metadata": {},
   "outputs": [],
   "source": []
  }
 ],
 "metadata": {
  "kernelspec": {
   "display_name": "Python 3",
   "language": "python",
   "name": "python3"
  },
  "language_info": {
   "codemirror_mode": {
    "name": "ipython",
    "version": 3
   },
   "file_extension": ".py",
   "mimetype": "text/x-python",
   "name": "python",
   "nbconvert_exporter": "python",
   "pygments_lexer": "ipython3",
   "version": "3.8.8"
  }
 },
 "nbformat": 4,
 "nbformat_minor": 2
}
